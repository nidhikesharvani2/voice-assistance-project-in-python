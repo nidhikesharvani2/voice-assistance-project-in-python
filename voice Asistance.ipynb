{
 "cells": [
  {
   "cell_type": "code",
   "execution_count": 1,
   "id": "21210734-3fdd-4799-9f7e-87724d399a24",
   "metadata": {},
   "outputs": [],
   "source": [
    "import pyttsx3 "
   ]
  },
  {
   "cell_type": "code",
   "execution_count": 3,
   "id": "b76db5ac-5a6c-41c4-9bbd-bdb86a8c7fd5",
   "metadata": {},
   "outputs": [
    {
     "name": "stdout",
     "output_type": "stream",
     "text": [
      "Requirement already satisfied: speechrecognition in c:\\anaconda\\lib\\site-packages (3.10.4)\n",
      "Requirement already satisfied: requests>=2.26.0 in c:\\anaconda\\lib\\site-packages (from speechrecognition) (2.31.0)\n",
      "Requirement already satisfied: typing-extensions in c:\\anaconda\\lib\\site-packages (from speechrecognition) (4.9.0)\n",
      "Requirement already satisfied: charset-normalizer<4,>=2 in c:\\anaconda\\lib\\site-packages (from requests>=2.26.0->speechrecognition) (2.0.4)\n",
      "Requirement already satisfied: idna<4,>=2.5 in c:\\anaconda\\lib\\site-packages (from requests>=2.26.0->speechrecognition) (3.4)\n",
      "Requirement already satisfied: urllib3<3,>=1.21.1 in c:\\anaconda\\lib\\site-packages (from requests>=2.26.0->speechrecognition) (2.0.7)\n",
      "Requirement already satisfied: certifi>=2017.4.17 in c:\\anaconda\\lib\\site-packages (from requests>=2.26.0->speechrecognition) (2024.2.2)\n",
      "Note: you may need to restart the kernel to use updated packages.\n"
     ]
    }
   ],
   "source": [
    "pip install speechrecognition"
   ]
  },
  {
   "cell_type": "code",
   "execution_count": 4,
   "id": "dd1322c9-5b9b-4930-b503-8c8280a85f36",
   "metadata": {},
   "outputs": [],
   "source": [
    "import os"
   ]
  },
  {
   "cell_type": "code",
   "execution_count": 5,
   "id": "04540a80-e3fc-4aa8-858e-c7c58c1b7233",
   "metadata": {},
   "outputs": [],
   "source": [
    "import speech_recognition as sr"
   ]
  },
  {
   "cell_type": "code",
   "execution_count": 6,
   "id": "890b02bc-0cb0-4848-903e-aaa27307ab71",
   "metadata": {},
   "outputs": [],
   "source": [
    "import webbrowser "
   ]
  },
  {
   "cell_type": "code",
   "execution_count": 7,
   "id": "11007812-b735-42ef-a309-d104e8b28fd2",
   "metadata": {},
   "outputs": [],
   "source": [
    "import datetime"
   ]
  },
  {
   "cell_type": "code",
   "execution_count": 8,
   "id": "ae3a0746-a45e-44c5-9849-0f7f44115dbb",
   "metadata": {},
   "outputs": [
    {
     "name": "stdout",
     "output_type": "stream",
     "text": [
      "Requirement already satisfied: pyjokes in c:\\anaconda\\lib\\site-packages (0.6.0)\n",
      "Note: you may need to restart the kernel to use updated packages.\n"
     ]
    }
   ],
   "source": [
    "pip install pyjokes"
   ]
  },
  {
   "cell_type": "code",
   "execution_count": 7,
   "id": "f8aa0331-8aa4-40db-9068-ba157545f26f",
   "metadata": {},
   "outputs": [],
   "source": [
    "import pyjokes"
   ]
  },
  {
   "cell_type": "code",
   "execution_count": 9,
   "id": "b7997bc5-4f27-4b83-aa7b-5c3acd3cdb10",
   "metadata": {},
   "outputs": [
    {
     "name": "stdout",
     "output_type": "stream",
     "text": [
      "Requirement already satisfied: pyaudio in c:\\anaconda\\lib\\site-packages (0.2.14)Note: you may need to restart the kernel to use updated packages.\n",
      "\n"
     ]
    }
   ],
   "source": [
    "pip install pyaudio"
   ]
  },
  {
   "cell_type": "code",
   "execution_count": 7,
   "id": "55c8596e-2aa8-4f1d-a9cc-b10f5f8f694e",
   "metadata": {},
   "outputs": [],
   "source": [
    "import subprocess"
   ]
  },
  {
   "cell_type": "code",
   "execution_count": 8,
   "id": "32898dc9-43fb-4359-8224-d152ca8de1f4",
   "metadata": {},
   "outputs": [],
   "source": [
    "import pyaudio"
   ]
  },
  {
   "cell_type": "code",
   "execution_count": 9,
   "id": "e4af71b9-738a-4a2c-9906-03aea29413d9",
   "metadata": {},
   "outputs": [],
   "source": [
    "import platform"
   ]
  },
  {
   "cell_type": "code",
   "execution_count": 10,
   "id": "299f4cc5-dd94-4bbe-84e1-563f6ca096e9",
   "metadata": {},
   "outputs": [
    {
     "name": "stdout",
     "output_type": "stream",
     "text": [
      "Listening..\n",
      "recognizing..\n",
      "my name is Nidhi Kesarwani\n",
      "Listening..\n",
      "recognizing..\n",
      "Not Understand\n"
     ]
    },
    {
     "ename": "TypeError",
     "evalue": "argument of type 'NoneType' is not iterable",
     "output_type": "error",
     "traceback": [
      "\u001b[1;31m---------------------------------------------------------------------------\u001b[0m",
      "\u001b[1;31mTypeError\u001b[0m                                 Traceback (most recent call last)",
      "Cell \u001b[1;32mIn[10], line 34\u001b[0m\n\u001b[0;32m     30\u001b[0m \u001b[38;5;28;01mwhile\u001b[39;00m \u001b[38;5;28;01mTrue\u001b[39;00m:\n\u001b[0;32m     32\u001b[0m     data1\u001b[38;5;241m=\u001b[39msptext()\n\u001b[1;32m---> 34\u001b[0m     \u001b[38;5;28;01mif\u001b[39;00m \u001b[38;5;124m\"\u001b[39m\u001b[38;5;124myour name\u001b[39m\u001b[38;5;124m\"\u001b[39m \u001b[38;5;129;01min\u001b[39;00m data1:\n\u001b[0;32m     35\u001b[0m         name\u001b[38;5;241m=\u001b[39m\u001b[38;5;124m\"\u001b[39m\u001b[38;5;124mmy name is Nidhi\u001b[39m\u001b[38;5;124m\"\u001b[39m\n\u001b[0;32m     36\u001b[0m         speechtxt(name)\n",
      "\u001b[1;31mTypeError\u001b[0m: argument of type 'NoneType' is not iterable"
     ]
    }
   ],
   "source": [
    "# speech recognition: it's convert voice to text\n",
    "def sptext():\n",
    "    recognizer=sr.Recognizer()#  called recognizer class\n",
    "    with sr.Microphone() as source:\n",
    "        print(\"Listening..\")\n",
    "        recognizer.adjust_for_ambient_noise(source)# remove the noise from the source\n",
    "        audio=recognizer.listen(source)\n",
    "        try:\n",
    "            print(\"recognizing..\")\n",
    "            data=recognizer.recognize_google(audio)\n",
    "            print(data)\n",
    "            return data\n",
    "        except sr.UnknownValueError:\n",
    "            print(\"Not Understand\")\n",
    "\n",
    "def speechtxt(x):\n",
    "    engine=pyttsx3.init()\n",
    "    voices=engine.getProperty('voices')\n",
    "    engine.setProperty('voice',voices[0].id)# 0=male voice and 1=female voice\n",
    "    rate=engine.getProperty('rate')\n",
    "    engine.setProperty('rate',150)# 150 is speed of voice\n",
    "    engine.say(x)\n",
    "    engine.runAndWait()\n",
    "\n",
    "if __name__ == \"__main__\":\n",
    "    \n",
    "    \n",
    "    #speech_input=sptext()\n",
    "    #if speech_input  == \"hello Nidhi\":\n",
    "    while True:\n",
    "        \n",
    "        data1=sptext()\n",
    "        \n",
    "        if \"your name\" in data1:\n",
    "            name=\"my name is Nidhi\"\n",
    "            speechtxt(name)\n",
    "\n",
    "        elif \"old are you\" in data1:\n",
    "            age=\"i am 18 years old\"\n",
    "            speechtxt(age)\n",
    "\n",
    "        elif \"time\" in data1:\n",
    "            time=datetime.datetime.now().strftime(\"%I%M%p\")\n",
    "            #             time=datetime.datetime.now()it gives date time hours/second/milisecond but i want time\n",
    "            # %I=hours,%M=minutes,%p=pm\n",
    "            speechtxt(time)\n",
    "\n",
    "        elif \"youTube\" in data1:\n",
    "            you=webbrowser.open(\"https://www.youtube.com/\")\n",
    "            speechtxt(you)\n",
    "\n",
    "        elif \"joke\" in data1:\n",
    "            joke_1=pyjokes.get_joke(language=\"en\",category=\"all\")\n",
    "            print(joke_1)\n",
    "            speechtxt(joke_1)\n",
    "\n",
    "        elif \"file\" in data1:\n",
    "            file_path=r\"C:\\Users\\Administrator\\Desktop\\python jupyter  program\"\n",
    "            if platform.system()==\"windows\":\n",
    "                os.startfile(file_path)\n",
    "            \n",
    "\n",
    "        elif \"exit\" in data1:\n",
    "            speechtxt(\"Thank you\")\n",
    "            break\n",
    "\n",
    "        \n",
    "                 #else:\n",
    "      #  print(\"thanks\")"
   ]
  },
  {
   "cell_type": "code",
   "execution_count": null,
   "id": "02698db2-f478-4733-bff6-ce5ca513b0e1",
   "metadata": {},
   "outputs": [],
   "source": []
  }
 ],
 "metadata": {
  "kernelspec": {
   "display_name": "Python 3 (ipykernel)",
   "language": "python",
   "name": "python3"
  },
  "language_info": {
   "codemirror_mode": {
    "name": "ipython",
    "version": 3
   },
   "file_extension": ".py",
   "mimetype": "text/x-python",
   "name": "python",
   "nbconvert_exporter": "python",
   "pygments_lexer": "ipython3",
   "version": "3.11.7"
  }
 },
 "nbformat": 4,
 "nbformat_minor": 5
}
